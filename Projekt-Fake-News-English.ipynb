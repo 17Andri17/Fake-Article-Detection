{
 "cells": [
  {
   "cell_type": "markdown",
   "id": "4d24d821",
   "metadata": {},
   "source": [
    "# Fake News Detection"
   ]
  },
  {
   "cell_type": "markdown",
   "id": "dfedb206",
   "metadata": {},
   "source": [
    "## 1. Data preparation"
   ]
  },
  {
   "cell_type": "markdown",
   "id": "b5c83f16",
   "metadata": {},
   "source": [
    "### Importing Libraries"
   ]
  },
  {
   "cell_type": "code",
   "execution_count": 1,
   "id": "8704ac14",
   "metadata": {},
   "outputs": [],
   "source": [
    "import re\n",
    "import string\n",
    "\n",
    "import pandas as pd\n",
    "import numpy as np\n",
    "from langdetect import detect\n",
    "from sklearn.model_selection import train_test_split\n",
    "\n",
    "import matplotlib.pyplot as plt\n",
    "\n",
    "from nltk.stem import WordNetLemmatizer\n",
    "from nltk.corpus import stopwords\n",
    "import nltk\n",
    "\n",
    "# nltk.download('wordnet')\n",
    "# nltk.download('stopwords')\n",
    "# nltk.download('punkt')\n",
    "# nltk.download('omw-1.4')\n",
    "\n",
    "from sklearn.feature_extraction.text import TfidfVectorizer\n",
    "from sklearn.preprocessing import MinMaxScaler\n",
    "from scipy.sparse import hstack\n",
    "\n",
    "import scipy\n",
    "from sklearn.linear_model import LogisticRegression\n",
    "from sklearn.tree import DecisionTreeClassifier\n",
    "from sklearn.ensemble import GradientBoostingClassifier\n",
    "from keras.models import Sequential\n",
    "from keras.layers import Dense, Dropout\n",
    "from keras.preprocessing.sequence import TimeseriesGenerator\n",
    "import keras\n",
    "import tensorflow as tf\n",
    "from keras.utils import to_categorical"
   ]
  },
  {
   "cell_type": "markdown",
   "id": "2d4ff749",
   "metadata": {},
   "source": [
    "### Importing Dataset"
   ]
  },
  {
   "cell_type": "code",
   "execution_count": 2,
   "id": "594a4dd0",
   "metadata": {
    "scrolled": true
   },
   "outputs": [],
   "source": [
    "df_whole = pd.read_csv(\"PreProcessedData.csv\")"
   ]
  },
  {
   "cell_type": "markdown",
   "id": "ccde9aea",
   "metadata": {},
   "source": [
    "### Familiarization with the data"
   ]
  },
  {
   "cell_type": "code",
   "execution_count": 3,
   "id": "e04a446a",
   "metadata": {},
   "outputs": [
    {
     "data": {
      "text/html": [
       "<div>\n",
       "<style scoped>\n",
       "    .dataframe tbody tr th:only-of-type {\n",
       "        vertical-align: middle;\n",
       "    }\n",
       "\n",
       "    .dataframe tbody tr th {\n",
       "        vertical-align: top;\n",
       "    }\n",
       "\n",
       "    .dataframe thead th {\n",
       "        text-align: right;\n",
       "    }\n",
       "</style>\n",
       "<table border=\"1\" class=\"dataframe\">\n",
       "  <thead>\n",
       "    <tr style=\"text-align: right;\">\n",
       "      <th></th>\n",
       "      <th>index</th>\n",
       "      <th>title</th>\n",
       "      <th>text</th>\n",
       "      <th>Ground Label</th>\n",
       "    </tr>\n",
       "  </thead>\n",
       "  <tbody>\n",
       "    <tr>\n",
       "      <th>0</th>\n",
       "      <td>0</td>\n",
       "      <td>Ann Coulter Make Believes She Has ‘Gay Friend...</td>\n",
       "      <td>It s hard to believe, but Donald Trump does ha...</td>\n",
       "      <td>fake</td>\n",
       "    </tr>\n",
       "    <tr>\n",
       "      <th>1</th>\n",
       "      <td>1</td>\n",
       "      <td>Rating: Moody‘s verbessert Ausblick für Russla...</td>\n",
       "      <td>bankensektor Der russische Staat werde die Ban...</td>\n",
       "      <td>fake</td>\n",
       "    </tr>\n",
       "    <tr>\n",
       "      <th>2</th>\n",
       "      <td>2</td>\n",
       "      <td>CAN WE ADD DIRTY MONEY ‘LAUNDERING’ To The Oba...</td>\n",
       "      <td>A member of the House Intelligence Committee i...</td>\n",
       "      <td>fake</td>\n",
       "    </tr>\n",
       "    <tr>\n",
       "      <th>3</th>\n",
       "      <td>3</td>\n",
       "      <td>Republicans on Obamacare repeal: 'We're going ...</td>\n",
       "      <td>WASHINGTON (Reuters) - House of Representative...</td>\n",
       "      <td>true</td>\n",
       "    </tr>\n",
       "    <tr>\n",
       "      <th>4</th>\n",
       "      <td>4</td>\n",
       "      <td>Trump, on possible DACA deal, says border wall...</td>\n",
       "      <td>WASHINGTON (Reuters) - U.S. President Donald T...</td>\n",
       "      <td>true</td>\n",
       "    </tr>\n",
       "  </tbody>\n",
       "</table>\n",
       "</div>"
      ],
      "text/plain": [
       "   index                                              title  \\\n",
       "0      0   Ann Coulter Make Believes She Has ‘Gay Friend...   \n",
       "1      1  Rating: Moody‘s verbessert Ausblick für Russla...   \n",
       "2      2  CAN WE ADD DIRTY MONEY ‘LAUNDERING’ To The Oba...   \n",
       "3      3  Republicans on Obamacare repeal: 'We're going ...   \n",
       "4      4  Trump, on possible DACA deal, says border wall...   \n",
       "\n",
       "                                                text Ground Label  \n",
       "0  It s hard to believe, but Donald Trump does ha...         fake  \n",
       "1  bankensektor Der russische Staat werde die Ban...         fake  \n",
       "2  A member of the House Intelligence Committee i...         fake  \n",
       "3  WASHINGTON (Reuters) - House of Representative...         true  \n",
       "4  WASHINGTON (Reuters) - U.S. President Donald T...         true  "
      ]
     },
     "execution_count": 3,
     "metadata": {},
     "output_type": "execute_result"
    }
   ],
   "source": [
    "df_whole.head()"
   ]
  },
  {
   "cell_type": "code",
   "execution_count": 4,
   "id": "f01cbc7b",
   "metadata": {},
   "outputs": [
    {
     "name": "stdout",
     "output_type": "stream",
     "text": [
      "<class 'pandas.core.frame.DataFrame'>\n",
      "RangeIndex: 69045 entries, 0 to 69044\n",
      "Data columns (total 4 columns):\n",
      " #   Column        Non-Null Count  Dtype \n",
      "---  ------        --------------  ----- \n",
      " 0   index         69045 non-null  int64 \n",
      " 1   title         68365 non-null  object\n",
      " 2   text          68978 non-null  object\n",
      " 3   Ground Label  69045 non-null  object\n",
      "dtypes: int64(1), object(3)\n",
      "memory usage: 2.1+ MB\n"
     ]
    }
   ],
   "source": [
    "df_whole.info()"
   ]
  },
  {
   "cell_type": "markdown",
   "id": "7e5efbf0",
   "metadata": {},
   "source": [
    "### We check the percentage of true articles"
   ]
  },
  {
   "cell_type": "code",
   "execution_count": 5,
   "id": "28ea58a5",
   "metadata": {
    "scrolled": true
   },
   "outputs": [
    {
     "data": {
      "text/plain": [
       "0.3893982185531175"
      ]
     },
     "execution_count": 5,
     "metadata": {},
     "output_type": "execute_result"
    }
   ],
   "source": [
    "len(df_whole[df_whole['Ground Label']==\"true\"])/len(df_whole)"
   ]
  },
  {
   "cell_type": "markdown",
   "id": "e87cccd1",
   "metadata": {},
   "source": [
    "### We divide the dataset into a training set and a validation set"
   ]
  },
  {
   "cell_type": "code",
   "execution_count": 6,
   "id": "bf20ad15",
   "metadata": {},
   "outputs": [],
   "source": [
    "df, valid = train_test_split(\n",
    "    df_whole, stratify=df_whole[\"Ground Label\"], test_size=0.3, random_state=42\n",
    ")"
   ]
  },
  {
   "cell_type": "code",
   "execution_count": 7,
   "id": "157ccce1",
   "metadata": {},
   "outputs": [
    {
     "data": {
      "text/html": [
       "<div>\n",
       "<style scoped>\n",
       "    .dataframe tbody tr th:only-of-type {\n",
       "        vertical-align: middle;\n",
       "    }\n",
       "\n",
       "    .dataframe tbody tr th {\n",
       "        vertical-align: top;\n",
       "    }\n",
       "\n",
       "    .dataframe thead th {\n",
       "        text-align: right;\n",
       "    }\n",
       "</style>\n",
       "<table border=\"1\" class=\"dataframe\">\n",
       "  <thead>\n",
       "    <tr style=\"text-align: right;\">\n",
       "      <th></th>\n",
       "      <th>index</th>\n",
       "      <th>title</th>\n",
       "      <th>text</th>\n",
       "      <th>Ground Label</th>\n",
       "    </tr>\n",
       "  </thead>\n",
       "  <tbody>\n",
       "    <tr>\n",
       "      <th>7765</th>\n",
       "      <td>7765</td>\n",
       "      <td>Donald Trump Just Took Credit For Christmas A...</td>\n",
       "      <td>Americans have been spending well over $2 tril...</td>\n",
       "      <td>fake</td>\n",
       "    </tr>\n",
       "    <tr>\n",
       "      <th>28281</th>\n",
       "      <td>28281</td>\n",
       "      <td>Australia Successfully Reformed Gun Laws, Why ...</td>\n",
       "      <td>An Embattled Pharmaceutical Company That Sells...</td>\n",
       "      <td>fake</td>\n",
       "    </tr>\n",
       "    <tr>\n",
       "      <th>41152</th>\n",
       "      <td>41152</td>\n",
       "      <td>WWN’s Horoscopes</td>\n",
       "      <td>aries 21 March – 20 April \\r\\nLook at that stu...</td>\n",
       "      <td>fake</td>\n",
       "    </tr>\n",
       "    <tr>\n",
       "      <th>22071</th>\n",
       "      <td>22071</td>\n",
       "      <td>Something big is underway on all fronts: “With...</td>\n",
       "      <td>VIDEOS Something big is underway on all fronts...</td>\n",
       "      <td>fake</td>\n",
       "    </tr>\n",
       "    <tr>\n",
       "      <th>68977</th>\n",
       "      <td>68977</td>\n",
       "      <td>U.S. Intelligence Says Details Of Russian Dos...</td>\n",
       "      <td>When the bombshell dossier exposing Donald Tru...</td>\n",
       "      <td>fake</td>\n",
       "    </tr>\n",
       "  </tbody>\n",
       "</table>\n",
       "</div>"
      ],
      "text/plain": [
       "       index                                              title  \\\n",
       "7765    7765   Donald Trump Just Took Credit For Christmas A...   \n",
       "28281  28281  Australia Successfully Reformed Gun Laws, Why ...   \n",
       "41152  41152                                   WWN’s Horoscopes   \n",
       "22071  22071  Something big is underway on all fronts: “With...   \n",
       "68977  68977   U.S. Intelligence Says Details Of Russian Dos...   \n",
       "\n",
       "                                                    text Ground Label  \n",
       "7765   Americans have been spending well over $2 tril...         fake  \n",
       "28281  An Embattled Pharmaceutical Company That Sells...         fake  \n",
       "41152  aries 21 March – 20 April \\r\\nLook at that stu...         fake  \n",
       "22071  VIDEOS Something big is underway on all fronts...         fake  \n",
       "68977  When the bombshell dossier exposing Donald Tru...         fake  "
      ]
     },
     "execution_count": 7,
     "metadata": {},
     "output_type": "execute_result"
    }
   ],
   "source": [
    "valid.head()"
   ]
  },
  {
   "cell_type": "code",
   "execution_count": 8,
   "id": "4f112671",
   "metadata": {},
   "outputs": [],
   "source": [
    "valid.to_csv('walidacja.csv', index=False)"
   ]
  },
  {
   "cell_type": "code",
   "execution_count": 9,
   "id": "b9479e3f",
   "metadata": {},
   "outputs": [],
   "source": [
    "df, test = train_test_split(\n",
    "    df, stratify=df[\"Ground Label\"], test_size=0.3, random_state=42\n",
    ")"
   ]
  },
  {
   "cell_type": "code",
   "execution_count": 10,
   "id": "9ec06862",
   "metadata": {},
   "outputs": [
    {
     "data": {
      "text/html": [
       "<div>\n",
       "<style scoped>\n",
       "    .dataframe tbody tr th:only-of-type {\n",
       "        vertical-align: middle;\n",
       "    }\n",
       "\n",
       "    .dataframe tbody tr th {\n",
       "        vertical-align: top;\n",
       "    }\n",
       "\n",
       "    .dataframe thead th {\n",
       "        text-align: right;\n",
       "    }\n",
       "</style>\n",
       "<table border=\"1\" class=\"dataframe\">\n",
       "  <thead>\n",
       "    <tr style=\"text-align: right;\">\n",
       "      <th></th>\n",
       "      <th>index</th>\n",
       "      <th>title</th>\n",
       "      <th>text</th>\n",
       "      <th>Ground Label</th>\n",
       "    </tr>\n",
       "  </thead>\n",
       "  <tbody>\n",
       "    <tr>\n",
       "      <th>40542</th>\n",
       "      <td>40542</td>\n",
       "      <td>Adele: No permission given to political campai...</td>\n",
       "      <td>(Reuters) - British singer Adele made clear on...</td>\n",
       "      <td>true</td>\n",
       "    </tr>\n",
       "    <tr>\n",
       "      <th>38393</th>\n",
       "      <td>38393</td>\n",
       "      <td>BORDER COLLAPSE AMID ELECTION</td>\n",
       "      <td>by DML DAILY / November 4, 2016 / IMMIGRATION ...</td>\n",
       "      <td>fake</td>\n",
       "    </tr>\n",
       "    <tr>\n",
       "      <th>34334</th>\n",
       "      <td>34334</td>\n",
       "      <td>Tim Allen: Hollywood Bullies Trump Supporters</td>\n",
       "      <td>On The Kelly File Monday, actor Tim Allen disc...</td>\n",
       "      <td>fake</td>\n",
       "    </tr>\n",
       "    <tr>\n",
       "      <th>21406</th>\n",
       "      <td>21406</td>\n",
       "      <td>North Korea sentences South Korean reporters t...</td>\n",
       "      <td>SEOUL (Reuters) - A North Korean court sentenc...</td>\n",
       "      <td>true</td>\n",
       "    </tr>\n",
       "    <tr>\n",
       "      <th>60696</th>\n",
       "      <td>60696</td>\n",
       "      <td>ESPN Just Fired Curt Schilling For This Despi...</td>\n",
       "      <td>ESPN just made an amazing stand against bigotr...</td>\n",
       "      <td>fake</td>\n",
       "    </tr>\n",
       "  </tbody>\n",
       "</table>\n",
       "</div>"
      ],
      "text/plain": [
       "       index                                              title  \\\n",
       "40542  40542  Adele: No permission given to political campai...   \n",
       "38393  38393                      BORDER COLLAPSE AMID ELECTION   \n",
       "34334  34334      Tim Allen: Hollywood Bullies Trump Supporters   \n",
       "21406  21406  North Korea sentences South Korean reporters t...   \n",
       "60696  60696   ESPN Just Fired Curt Schilling For This Despi...   \n",
       "\n",
       "                                                    text Ground Label  \n",
       "40542  (Reuters) - British singer Adele made clear on...         true  \n",
       "38393  by DML DAILY / November 4, 2016 / IMMIGRATION ...         fake  \n",
       "34334  On The Kelly File Monday, actor Tim Allen disc...         fake  \n",
       "21406  SEOUL (Reuters) - A North Korean court sentenc...         true  \n",
       "60696  ESPN just made an amazing stand against bigotr...         fake  "
      ]
     },
     "execution_count": 10,
     "metadata": {},
     "output_type": "execute_result"
    }
   ],
   "source": [
    "test.head()"
   ]
  },
  {
   "cell_type": "code",
   "execution_count": 11,
   "id": "332c9a3e",
   "metadata": {},
   "outputs": [],
   "source": [
    "test.to_csv('test.csv', index=False)"
   ]
  },
  {
   "cell_type": "markdown",
   "id": "6d38cf59",
   "metadata": {},
   "source": [
    "# 2. Data preprocessing"
   ]
  },
  {
   "cell_type": "markdown",
   "id": "f7014764",
   "metadata": {},
   "source": [
    "### We transform the 'Ground Label' column, containing 'fake' or 'true' strings to a 'class' column with binary values, 0 for 'fake' news and 1 for 'true' news"
   ]
  },
  {
   "cell_type": "code",
   "execution_count": 12,
   "id": "5baa5f5d",
   "metadata": {},
   "outputs": [],
   "source": [
    "#fake, true -> 0, 1\n",
    "df['class']=np.where(df['Ground Label']=='fake', 0, 1)\n",
    "df = df.drop('Ground Label', axis=1)\n",
    "df = df.drop('index', axis=1)\n"
   ]
  },
  {
   "cell_type": "markdown",
   "id": "68e9e4ee",
   "metadata": {},
   "source": [
    "### We fill in the empty values in the 'text' and 'title' columns"
   ]
  },
  {
   "cell_type": "code",
   "execution_count": 13,
   "id": "fb5f3a88",
   "metadata": {
    "scrolled": true
   },
   "outputs": [],
   "source": [
    "df[\"text\"] = df[\"text\"].fillna(\"\")\n",
    "df[\"title\"] = df[\"title\"].fillna(\"\")"
   ]
  },
  {
   "cell_type": "markdown",
   "id": "c3d32809",
   "metadata": {},
   "source": [
    "### After checking that only 6% of articles without content and 0% of articles without a title are true, we can delete them"
   ]
  },
  {
   "cell_type": "code",
   "execution_count": 14,
   "id": "eb713937",
   "metadata": {},
   "outputs": [
    {
     "name": "stdout",
     "output_type": "stream",
     "text": [
      "True:  2    All:  32\n",
      "True:  0    All:  326\n"
     ]
    }
   ],
   "source": [
    "print(\"True: \", df[df[\"text\"]==\"\"][\"class\"].sum(), \"   All: \", len(df[df[\"text\"]==\"\"][\"class\"]))\n",
    "print(\"True: \", df[df[\"title\"]==\"\"][\"class\"].sum(), \"   All: \", len(df[df[\"title\"]==\"\"][\"class\"]))\n",
    "df = df.drop(df[df[\"text\"]==\"\"].index)\n",
    "df = df.drop(df[df[\"title\"]==\"\"].index)"
   ]
  },
  {
   "cell_type": "markdown",
   "id": "ba4331df",
   "metadata": {},
   "source": [
    "### Let's check how the number of links in the text correlates with the truthfulness of articles"
   ]
  },
  {
   "cell_type": "code",
   "execution_count": 15,
   "id": "72a3d3f3",
   "metadata": {},
   "outputs": [],
   "source": [
    "def contains_link(text):\n",
    "    regex = r'https?://\\S+|www\\.\\S+'\n",
    "    url = re.findall(regex, text)\n",
    "    return len(url)"
   ]
  },
  {
   "cell_type": "code",
   "execution_count": 16,
   "id": "b536791d",
   "metadata": {},
   "outputs": [
    {
     "name": "stdout",
     "output_type": "stream",
     "text": [
      "41 3047\n",
      "3 856\n",
      "1 395\n",
      "0 191\n"
     ]
    }
   ],
   "source": [
    "df[\"links\"] = df[\"text\"].apply(contains_link)\n",
    "print(df[df[\"links\"]>0][\"class\"].sum(), len(df[df[\"links\"]>0]))\n",
    "print(df[df[\"links\"]>1][\"class\"].sum(), len(df[df[\"links\"]>1]))\n",
    "print(df[df[\"links\"]>2][\"class\"].sum(), len(df[df[\"links\"]>2]))\n",
    "print(df[df[\"links\"]>3][\"class\"].sum(), len(df[df[\"links\"]>3]))"
   ]
  },
  {
   "cell_type": "markdown",
   "id": "7d149a9e",
   "metadata": {},
   "source": [
    "### Let's check how the number of question marks and exclamation marks in the text correlates with the truthfulness of articles"
   ]
  },
  {
   "cell_type": "code",
   "execution_count": 17,
   "id": "44484d42",
   "metadata": {},
   "outputs": [
    {
     "name": "stdout",
     "output_type": "stream",
     "text": [
      "1593 10909\n",
      "674 6756\n"
     ]
    },
    {
     "data": {
      "image/png": "[encoded data removed]",
      "text/plain": [
       "<Figure size 1000x400 with 2 Axes>"
      ]
     },
     "metadata": {},
     "output_type": "display_data"
    }
   ],
   "source": [
    "df[\"question_marks\"] = df[\"text\"].apply(lambda x: x.count(\"?\"))\n",
    "df[\"exclamation_marks\"] = df[\"text\"].apply(lambda x: x.count(\"!\"))\n",
    "print(df[df[\"question_marks\"]>0][\"class\"].sum(), len(df[df[\"question_marks\"]>0]))\n",
    "print(df[df[\"exclamation_marks\"]>0][\"class\"].sum(), len(df[df[\"exclamation_marks\"]>0]))\n",
    "\n",
    "groupedq = df.groupby(\"question_marks\")[\"class\"].mean() * 100\n",
    "groupede = df.groupby(\"exclamation_marks\")[\"class\"].mean() * 100\n",
    "\n",
    "fig, ax = plt.subplots(nrows=1, ncols=2, figsize=(10, 4))\n",
    "\n",
    "ax[0].bar(groupede.index, groupede.values)\n",
    "ax[0].set_xlabel(\"Number of Exclamation Marks\")\n",
    "ax[0].set_ylabel(\"% of not Fake Texts\")\n",
    "ax[0].set_title(\"Effect of Exclamation Marks on Text Fakeness\")\n",
    "\n",
    "ax[1].bar(groupedq.index, groupedq.values)\n",
    "ax[1].set_xlabel(\"Number of Question Marks\")\n",
    "ax[1].set_ylabel(\"% of not Fake Texts\")\n",
    "ax[1].set_title(\"Effect of Question Marks on Text Fakeness\")\n",
    "\n",
    "plt.show()"
   ]
  },
  {
   "cell_type": "markdown",
   "id": "b99f3bd7",
   "metadata": {},
   "source": [
    "### We can see that the higher number of links, question marks, or exclamation marks, the higher chance that the text is fake. To consider that information in our model we add extra columns with their number."
   ]
  },
  {
   "cell_type": "markdown",
   "id": "e5d25724",
   "metadata": {},
   "source": [
    "### We create clean function that cleans our text"
   ]
  },
  {
   "cell_type": "code",
   "execution_count": 18,
   "id": "0ba42a67",
   "metadata": {},
   "outputs": [],
   "source": [
    "def clean(text):\n",
    "    #usuwa wszystko w kwadratowych nawiasach\n",
    "    text = re.sub('\\[.*?\\]', '', text)\n",
    "    #usuwa wszystkie znaki niebędące literami ani cyframi\n",
    "    text = re.sub(\"\\\\W\",\" \",text)\n",
    "    #usuwa linki\n",
    "    text = re.sub('https?://\\S+|www\\.\\S+', '', text)\n",
    "    #usuwa tagi\n",
    "    text = re.sub('<.*?>+', '', text)\n",
    "    #usuwa znaki interpunkcyjne\n",
    "    text = re.sub('[%s]' % re.escape(string.punctuation), '', text)\n",
    "    #usuwa entery\n",
    "    text = re.sub('\\n', '', text)\n",
    "    #usuwa ciągi znaków zawierające cyfry\n",
    "    text = re.sub('\\w*\\d\\w*', '', text)\n",
    "    #usuwa słowa jednoliterowe\n",
    "    text = re.sub(r'\\b\\w\\b', '', text)\n",
    "    #usuwa puste spacje\n",
    "    text = re.sub(r'\\s+', ' ', text)\n",
    "    return text"
   ]
  },
  {
   "cell_type": "markdown",
   "id": "a177fac8",
   "metadata": {},
   "source": [
    "### We apply the clean function to columns \"text\" and \"title\""
   ]
  },
  {
   "cell_type": "code",
   "execution_count": 19,
   "id": "5d263209",
   "metadata": {},
   "outputs": [],
   "source": [
    "#Aplikujemy funkcję czyszczącą tekst\n",
    "df[\"text\"] = df[\"text\"].apply(clean)\n",
    "df[\"title\"] = df[\"title\"].apply(clean)"
   ]
  },
  {
   "cell_type": "markdown",
   "id": "cbff032d",
   "metadata": {},
   "source": [
    "### Let's check how the frequency of capitalization of letters in the title affects the truthfulness of the article"
   ]
  },
  {
   "cell_type": "code",
   "execution_count": 20,
   "id": "167b9c11",
   "metadata": {},
   "outputs": [],
   "source": [
    "def count_capital_letters(text):\n",
    "    count = 0\n",
    "    for c in re.sub(r'\\s+', '', text):\n",
    "        if c.isupper():\n",
    "            count += 1\n",
    "    return count/max(len(text),1)"
   ]
  },
  {
   "cell_type": "code",
   "execution_count": 21,
   "id": "d9f674b4",
   "metadata": {},
   "outputs": [
    {
     "name": "stdout",
     "output_type": "stream",
     "text": [
      "70 1251\n",
      "3 147\n"
     ]
    }
   ],
   "source": [
    "df[\"capital_letters\"] = df[\"text\"].apply(count_capital_letters)\n",
    "print(df[df[\"capital_letters\"]>0.1][\"class\"].sum(), len(df[df[\"capital_letters\"]>0.1][\"class\"]))\n",
    "print(df[df[\"capital_letters\"]>0.2][\"class\"].sum(), len(df[df[\"capital_letters\"]>0.2][\"class\"]))"
   ]
  },
  {
   "cell_type": "markdown",
   "id": "eff24c9d",
   "metadata": {},
   "source": [
    "### We transform columns to lowercase"
   ]
  },
  {
   "cell_type": "code",
   "execution_count": 22,
   "id": "4157a19b",
   "metadata": {},
   "outputs": [],
   "source": [
    "df[\"text\"] = df[\"text\"].apply(lambda x: x.lower())\n",
    "df[\"title\"] = df[\"title\"].apply(lambda x: x.lower())"
   ]
  },
  {
   "cell_type": "markdown",
   "id": "79cf570d",
   "metadata": {},
   "source": [
    "### Let's check how the number of words correlates with the truthfulness of articles"
   ]
  },
  {
   "cell_type": "code",
   "execution_count": 23,
   "id": "b31059db",
   "metadata": {},
   "outputs": [
    {
     "name": "stdout",
     "output_type": "stream",
     "text": [
      "416 2232\n"
     ]
    },
    {
     "data": {
      "image/png": "[encoded data removed]",
      "text/plain": [
       "<Figure size 640x480 with 1 Axes>"
      ]
     },
     "metadata": {},
     "output_type": "display_data"
    }
   ],
   "source": [
    "df[\"num_words\"] = df[\"text\"].apply(lambda x: len(x.split()))\n",
    "print(df[df[\"num_words\"]<50][\"class\"].sum(), len(df[df[\"num_words\"]<50]))\n",
    "\n",
    "groupednum = df[df[\"num_words\"]<500].groupby(\"num_words\")[\"class\"].mean() * 100\n",
    "\n",
    "fig, ax = plt.subplots()\n",
    "\n",
    "ax.hist(df[df[\"num_words\"]<500][\"num_words\"], bins=30, label=\"All Texts\")\n",
    "ax.hist(df[(df[\"num_words\"]<500) & (df[\"class\"] == 0)][\"num_words\"], bins=30, color=\"#fb9a99\", label=\"Fake Texts\")\n",
    "ax.set_xlabel(\"Number of Words\")\n",
    "ax.set_ylabel(\"Number of Articles\")\n",
    "ax.set_title(\"Effect of Word Number on Text Fakeness\")\n",
    "ax.legend()\n",
    "\n",
    "plt.show()"
   ]
  },
  {
   "cell_type": "markdown",
   "id": "bbc498b1",
   "metadata": {},
   "source": [
    "### After the initial analysis, we noticed that all articles not written in English were not true. Therefore, when building a model based on our dataset, it will predict that articles written in languages other than English are not true. As a result, we decided to analyze only news articles written in English. To remove others later on, we created a function that detects the language."
   ]
  },
  {
   "cell_type": "code",
   "execution_count": 24,
   "id": "a65cc73d",
   "metadata": {},
   "outputs": [],
   "source": [
    "def detect_language(text):\n",
    "    try:\n",
    "        lang = detect(text)\n",
    "    except:\n",
    "        lang = 'unknown'\n",
    "    return lang"
   ]
  },
  {
   "cell_type": "code",
   "execution_count": 25,
   "id": "2657ffee",
   "metadata": {},
   "outputs": [
    {
     "data": {
      "text/plain": [
       "306"
      ]
     },
     "execution_count": 25,
     "metadata": {},
     "output_type": "execute_result"
    }
   ],
   "source": [
    "df[\"language\"] = (df[\"text\"]+df[\"title\"]).apply(detect_language)\n",
    "len(df[df[\"language\"]!=\"en\"])"
   ]
  },
  {
   "cell_type": "code",
   "execution_count": 27,
   "id": "a8cd83ad",
   "metadata": {},
   "outputs": [],
   "source": [
    "df = df.drop(df[df[\"language\"] != \"en\"].index)"
   ]
  },
  {
   "cell_type": "code",
   "execution_count": 28,
   "id": "5533168b",
   "metadata": {},
   "outputs": [
    {
     "data": {
      "text/html": [
       "<div>\n",
       "<style scoped>\n",
       "    .dataframe tbody tr th:only-of-type {\n",
       "        vertical-align: middle;\n",
       "    }\n",
       "\n",
       "    .dataframe tbody tr th {\n",
       "        vertical-align: top;\n",
       "    }\n",
       "\n",
       "    .dataframe thead th {\n",
       "        text-align: right;\n",
       "    }\n",
       "</style>\n",
       "<table border=\"1\" class=\"dataframe\">\n",
       "  <thead>\n",
       "    <tr style=\"text-align: right;\">\n",
       "      <th></th>\n",
       "      <th>title</th>\n",
       "      <th>text</th>\n",
       "      <th>class</th>\n",
       "      <th>links</th>\n",
       "      <th>question_marks</th>\n",
       "      <th>exclamation_marks</th>\n",
       "      <th>capital_letters</th>\n",
       "      <th>num_words</th>\n",
       "      <th>language</th>\n",
       "    </tr>\n",
       "  </thead>\n",
       "  <tbody>\n",
       "    <tr>\n",
       "      <th>38599</th>\n",
       "      <td>hillary puts trump to shame with powerful res...</td>\n",
       "      <td>after white nationalist rally in charlottesvil...</td>\n",
       "      <td>0</td>\n",
       "      <td>0</td>\n",
       "      <td>0</td>\n",
       "      <td>1</td>\n",
       "      <td>0.031216</td>\n",
       "      <td>310</td>\n",
       "      <td>en</td>\n",
       "    </tr>\n",
       "    <tr>\n",
       "      <th>29999</th>\n",
       "      <td>exclusive clinton op ed ll look for common ground</td>\n",
       "      <td>why you should vote for me in january america ...</td>\n",
       "      <td>1</td>\n",
       "      <td>0</td>\n",
       "      <td>1</td>\n",
       "      <td>0</td>\n",
       "      <td>0.021406</td>\n",
       "      <td>683</td>\n",
       "      <td>en</td>\n",
       "    </tr>\n",
       "    <tr>\n",
       "      <th>66335</th>\n",
       "      <td>spy scandals globalism and the betrayal of ame...</td>\n",
       "      <td>articles of the bound spy scandals globalism ...</td>\n",
       "      <td>0</td>\n",
       "      <td>0</td>\n",
       "      <td>1</td>\n",
       "      <td>0</td>\n",
       "      <td>0.041473</td>\n",
       "      <td>900</td>\n",
       "      <td>en</td>\n",
       "    </tr>\n",
       "    <tr>\n",
       "      <th>15786</th>\n",
       "      <td>trump slams canada by using example border st...</td>\n",
       "      <td>it can easily be said that donald trump doesn ...</td>\n",
       "      <td>0</td>\n",
       "      <td>0</td>\n",
       "      <td>2</td>\n",
       "      <td>3</td>\n",
       "      <td>0.032641</td>\n",
       "      <td>293</td>\n",
       "      <td>en</td>\n",
       "    </tr>\n",
       "    <tr>\n",
       "      <th>46420</th>\n",
       "      <td>breaking america was punked no direct ties bet...</td>\n",
       "      <td>could this be the biggest fake news story of a...</td>\n",
       "      <td>0</td>\n",
       "      <td>1</td>\n",
       "      <td>1</td>\n",
       "      <td>0</td>\n",
       "      <td>0.053229</td>\n",
       "      <td>223</td>\n",
       "      <td>en</td>\n",
       "    </tr>\n",
       "  </tbody>\n",
       "</table>\n",
       "</div>"
      ],
      "text/plain": [
       "                                                   title  \\\n",
       "38599   hillary puts trump to shame with powerful res...   \n",
       "29999  exclusive clinton op ed ll look for common ground   \n",
       "66335  spy scandals globalism and the betrayal of ame...   \n",
       "15786   trump slams canada by using example border st...   \n",
       "46420  breaking america was punked no direct ties bet...   \n",
       "\n",
       "                                                    text  class  links  \\\n",
       "38599  after white nationalist rally in charlottesvil...      0      0   \n",
       "29999  why you should vote for me in january america ...      1      0   \n",
       "66335   articles of the bound spy scandals globalism ...      0      0   \n",
       "15786  it can easily be said that donald trump doesn ...      0      0   \n",
       "46420  could this be the biggest fake news story of a...      0      1   \n",
       "\n",
       "       question_marks  exclamation_marks  capital_letters  num_words language  \n",
       "38599               0                  1         0.031216        310       en  \n",
       "29999               1                  0         0.021406        683       en  \n",
       "66335               1                  0         0.041473        900       en  \n",
       "15786               2                  3         0.032641        293       en  \n",
       "46420               1                  0         0.053229        223       en  "
      ]
     },
     "execution_count": 28,
     "metadata": {},
     "output_type": "execute_result"
    }
   ],
   "source": [
    "df.head()"
   ]
  },
  {
   "cell_type": "code",
   "execution_count": 29,
   "id": "794a174d",
   "metadata": {},
   "outputs": [],
   "source": [
    "unknown_mask = df[\"language\"] == \"unknown\"\n",
    "df.loc[unknown_mask, \"language\"] = df.loc[unknown_mask, \"title\"].apply(detect_language)\n",
    "\n",
    "df=df[df.language==\"en\"].loc[:, df.columns != \"language\"]"
   ]
  },
  {
   "cell_type": "code",
   "execution_count": 30,
   "id": "c78408d8",
   "metadata": {},
   "outputs": [
    {
     "data": {
      "text/html": [
       "<div>\n",
       "<style scoped>\n",
       "    .dataframe tbody tr th:only-of-type {\n",
       "        vertical-align: middle;\n",
       "    }\n",
       "\n",
       "    .dataframe tbody tr th {\n",
       "        vertical-align: top;\n",
       "    }\n",
       "\n",
       "    .dataframe thead th {\n",
       "        text-align: right;\n",
       "    }\n",
       "</style>\n",
       "<table border=\"1\" class=\"dataframe\">\n",
       "  <thead>\n",
       "    <tr style=\"text-align: right;\">\n",
       "      <th></th>\n",
       "      <th>title</th>\n",
       "      <th>text</th>\n",
       "      <th>class</th>\n",
       "      <th>links</th>\n",
       "      <th>question_marks</th>\n",
       "      <th>exclamation_marks</th>\n",
       "      <th>capital_letters</th>\n",
       "      <th>num_words</th>\n",
       "    </tr>\n",
       "  </thead>\n",
       "  <tbody>\n",
       "    <tr>\n",
       "      <th>38599</th>\n",
       "      <td>hillary puts trump to shame with powerful res...</td>\n",
       "      <td>after white nationalist rally in charlottesvil...</td>\n",
       "      <td>0</td>\n",
       "      <td>0</td>\n",
       "      <td>0</td>\n",
       "      <td>1</td>\n",
       "      <td>0.031216</td>\n",
       "      <td>310</td>\n",
       "    </tr>\n",
       "    <tr>\n",
       "      <th>29999</th>\n",
       "      <td>exclusive clinton op ed ll look for common ground</td>\n",
       "      <td>why you should vote for me in january america ...</td>\n",
       "      <td>1</td>\n",
       "      <td>0</td>\n",
       "      <td>1</td>\n",
       "      <td>0</td>\n",
       "      <td>0.021406</td>\n",
       "      <td>683</td>\n",
       "    </tr>\n",
       "    <tr>\n",
       "      <th>66335</th>\n",
       "      <td>spy scandals globalism and the betrayal of ame...</td>\n",
       "      <td>articles of the bound spy scandals globalism ...</td>\n",
       "      <td>0</td>\n",
       "      <td>0</td>\n",
       "      <td>1</td>\n",
       "      <td>0</td>\n",
       "      <td>0.041473</td>\n",
       "      <td>900</td>\n",
       "    </tr>\n",
       "    <tr>\n",
       "      <th>15786</th>\n",
       "      <td>trump slams canada by using example border st...</td>\n",
       "      <td>it can easily be said that donald trump doesn ...</td>\n",
       "      <td>0</td>\n",
       "      <td>0</td>\n",
       "      <td>2</td>\n",
       "      <td>3</td>\n",
       "      <td>0.032641</td>\n",
       "      <td>293</td>\n",
       "    </tr>\n",
       "    <tr>\n",
       "      <th>46420</th>\n",
       "      <td>breaking america was punked no direct ties bet...</td>\n",
       "      <td>could this be the biggest fake news story of a...</td>\n",
       "      <td>0</td>\n",
       "      <td>1</td>\n",
       "      <td>1</td>\n",
       "      <td>0</td>\n",
       "      <td>0.053229</td>\n",
       "      <td>223</td>\n",
       "    </tr>\n",
       "  </tbody>\n",
       "</table>\n",
       "</div>"
      ],
      "text/plain": [
       "                                                   title  \\\n",
       "38599   hillary puts trump to shame with powerful res...   \n",
       "29999  exclusive clinton op ed ll look for common ground   \n",
       "66335  spy scandals globalism and the betrayal of ame...   \n",
       "15786   trump slams canada by using example border st...   \n",
       "46420  breaking america was punked no direct ties bet...   \n",
       "\n",
       "                                                    text  class  links  \\\n",
       "38599  after white nationalist rally in charlottesvil...      0      0   \n",
       "29999  why you should vote for me in january america ...      1      0   \n",
       "66335   articles of the bound spy scandals globalism ...      0      0   \n",
       "15786  it can easily be said that donald trump doesn ...      0      0   \n",
       "46420  could this be the biggest fake news story of a...      0      1   \n",
       "\n",
       "       question_marks  exclamation_marks  capital_letters  num_words  \n",
       "38599               0                  1         0.031216        310  \n",
       "29999               1                  0         0.021406        683  \n",
       "66335               1                  0         0.041473        900  \n",
       "15786               2                  3         0.032641        293  \n",
       "46420               1                  0         0.053229        223  "
      ]
     },
     "execution_count": 30,
     "metadata": {},
     "output_type": "execute_result"
    }
   ],
   "source": [
    "df.head()"
   ]
  },
  {
   "cell_type": "markdown",
   "id": "da4aa7e1",
   "metadata": {},
   "source": [
    "### Next, to extract valuable information from the text and improve the quality of the model, we lemmatize the text and remove the so-called stop words"
   ]
  },
  {
   "cell_type": "markdown",
   "id": "5e714df0",
   "metadata": {},
   "source": [
    "### Lemmatization involves reducing different forms of a word to its basic form, or lemma. This way, we won't analyze words like car, cars, and car's separately, but rather identify them with their lemma - car."
   ]
  },
  {
   "cell_type": "code",
   "execution_count": 31,
   "id": "a7793d96",
   "metadata": {},
   "outputs": [],
   "source": [
    "lemmatizer = WordNetLemmatizer()\n",
    "\n",
    "def lemmatize_text(text):\n",
    "    return \" \".join([lemmatizer.lemmatize(word) for word in text.split()])"
   ]
  },
  {
   "cell_type": "code",
   "execution_count": 32,
   "id": "2bad20fb",
   "metadata": {},
   "outputs": [],
   "source": [
    "df[[\"text\", \"title\"]] = df[[\"text\", \"title\"]].apply(lambda x: x.apply(lemmatize_text))"
   ]
  },
  {
   "cell_type": "markdown",
   "id": "61f410ff",
   "metadata": {},
   "source": [
    "### Stop words are words that are very common in the language, but do not carry much meaning and can introduce noise into text analysis. Examples include and, but, the."
   ]
  },
  {
   "cell_type": "code",
   "execution_count": 33,
   "id": "f4e58698",
   "metadata": {},
   "outputs": [],
   "source": [
    "stop_words = set(stopwords.words('english'))\n",
    "\n",
    "def remove_stop_words(text):\n",
    "    words = nltk.word_tokenize(text.lower())\n",
    "    words = [word for word in words if word not in stop_words]\n",
    "    return ' '.join(words)"
   ]
  },
  {
   "cell_type": "code",
   "execution_count": 34,
   "id": "546e4991",
   "metadata": {},
   "outputs": [],
   "source": [
    "df[[\"text\", \"title\"]] = df[[\"text\", \"title\"]].apply(lambda x: x.apply(remove_stop_words))"
   ]
  },
  {
   "cell_type": "markdown",
   "id": "42096dfe",
   "metadata": {},
   "source": [
    "### We save the data to csv"
   ]
  },
  {
   "cell_type": "code",
   "execution_count": 31,
   "id": "a6b9703e",
   "metadata": {},
   "outputs": [],
   "source": [
    "df.to_csv('processed_Data.csv', index=False)"
   ]
  },
  {
   "cell_type": "markdown",
   "id": "41cd0ff2",
   "metadata": {},
   "source": [
    "# 3. Building model"
   ]
  },
  {
   "cell_type": "markdown",
   "id": "f833da2d",
   "metadata": {},
   "source": [
    "### Loading data from the previous subpoint."
   ]
  },
  {
   "cell_type": "code",
   "execution_count": 35,
   "id": "b9581201",
   "metadata": {},
   "outputs": [],
   "source": [
    "df = pd.read_csv(\"processed_Data.csv\")\n",
    "test = pd.read_csv(\"test.csv\")\n",
    "df[\"text\"] = df[\"text\"].fillna(\"\")\n",
    "df[\"title\"] = df[\"title\"].fillna(\"\")"
   ]
  },
  {
   "cell_type": "markdown",
   "id": "3f70bc49",
   "metadata": {},
   "source": [
    "### We convert the preprocessed text into numerical vectors using the TF-IDF method."
   ]
  },
  {
   "cell_type": "code",
   "execution_count": 36,
   "id": "303bea3d",
   "metadata": {},
   "outputs": [],
   "source": [
    "vectorizerText = TfidfVectorizer()\n",
    "vectorizerTitle = TfidfVectorizer()\n",
    "\n",
    "vectorizedText = vectorizerText.fit_transform(df[\"text\"])\n",
    "vectorizedTitle = vectorizerTitle.fit_transform(df[\"title\"])\n"
   ]
  },
  {
   "cell_type": "markdown",
   "id": "a23ebb6d",
   "metadata": {},
   "source": [
    "### We scale added columns"
   ]
  },
  {
   "cell_type": "code",
   "execution_count": 37,
   "id": "28d06c87",
   "metadata": {},
   "outputs": [
    {
     "data": {
      "text/html": [
       "<div>\n",
       "<style scoped>\n",
       "    .dataframe tbody tr th:only-of-type {\n",
       "        vertical-align: middle;\n",
       "    }\n",
       "\n",
       "    .dataframe tbody tr th {\n",
       "        vertical-align: top;\n",
       "    }\n",
       "\n",
       "    .dataframe thead th {\n",
       "        text-align: right;\n",
       "    }\n",
       "</style>\n",
       "<table border=\"1\" class=\"dataframe\">\n",
       "  <thead>\n",
       "    <tr style=\"text-align: right;\">\n",
       "      <th></th>\n",
       "      <th>num_words</th>\n",
       "      <th>exclamation_marks</th>\n",
       "      <th>question_marks</th>\n",
       "      <th>links</th>\n",
       "      <th>capital_letters</th>\n",
       "    </tr>\n",
       "  </thead>\n",
       "  <tbody>\n",
       "    <tr>\n",
       "      <th>0</th>\n",
       "      <td>0.015574</td>\n",
       "      <td>0.004695</td>\n",
       "      <td>0.000000</td>\n",
       "      <td>0.000000</td>\n",
       "      <td>0.036766</td>\n",
       "    </tr>\n",
       "    <tr>\n",
       "      <th>1</th>\n",
       "      <td>0.034313</td>\n",
       "      <td>0.000000</td>\n",
       "      <td>0.006289</td>\n",
       "      <td>0.000000</td>\n",
       "      <td>0.025211</td>\n",
       "    </tr>\n",
       "    <tr>\n",
       "      <th>2</th>\n",
       "      <td>0.045215</td>\n",
       "      <td>0.000000</td>\n",
       "      <td>0.006289</td>\n",
       "      <td>0.000000</td>\n",
       "      <td>0.048846</td>\n",
       "    </tr>\n",
       "    <tr>\n",
       "      <th>3</th>\n",
       "      <td>0.014720</td>\n",
       "      <td>0.014085</td>\n",
       "      <td>0.012579</td>\n",
       "      <td>0.000000</td>\n",
       "      <td>0.038444</td>\n",
       "    </tr>\n",
       "    <tr>\n",
       "      <th>4</th>\n",
       "      <td>0.011203</td>\n",
       "      <td>0.000000</td>\n",
       "      <td>0.006289</td>\n",
       "      <td>0.029412</td>\n",
       "      <td>0.062692</td>\n",
       "    </tr>\n",
       "  </tbody>\n",
       "</table>\n",
       "</div>"
      ],
      "text/plain": [
       "   num_words  exclamation_marks  question_marks     links  capital_letters\n",
       "0   0.015574           0.004695        0.000000  0.000000         0.036766\n",
       "1   0.034313           0.000000        0.006289  0.000000         0.025211\n",
       "2   0.045215           0.000000        0.006289  0.000000         0.048846\n",
       "3   0.014720           0.014085        0.012579  0.000000         0.038444\n",
       "4   0.011203           0.000000        0.006289  0.029412         0.062692"
      ]
     },
     "execution_count": 37,
     "metadata": {},
     "output_type": "execute_result"
    }
   ],
   "source": [
    "scaler = MinMaxScaler()\n",
    "df_part = df[[\"num_words\",\"exclamation_marks\",\"question_marks\",\"links\", \"capital_letters\"]]\n",
    "scaled_df = pd.DataFrame(scaler.fit_transform(df_part), columns=df_part.columns)\n",
    "scaled_df.head()"
   ]
  },
  {
   "cell_type": "markdown",
   "id": "16064850",
   "metadata": {},
   "source": [
    "### We prepare the training data. We will use content, title and features we extracted in the preprocessing to train one model and we will use only content and title to train the other model. We can then compare if our preprocessing had some impact on the results."
   ]
  },
  {
   "cell_type": "code",
   "execution_count": 38,
   "id": "0d9dda12",
   "metadata": {},
   "outputs": [],
   "source": [
    "Xv_train= hstack([vectorizedTitle, vectorizedText,scipy.sparse.csr_matrix(scaled_df[[\"links\",\"question_marks\",\"exclamation_marks\",\"capital_letters\",\"num_words\"]].values)])\n",
    "Xv_train2 = hstack([vectorizedTitle, vectorizedText])\n",
    "y_train = df['class']"
   ]
  },
  {
   "cell_type": "markdown",
   "id": "c31e5105",
   "metadata": {},
   "source": [
    "### We preprocess the test data"
   ]
  },
  {
   "cell_type": "code",
   "execution_count": 39,
   "id": "78a76288",
   "metadata": {},
   "outputs": [
    {
     "data": {
      "text/html": [
       "<div>\n",
       "<style scoped>\n",
       "    .dataframe tbody tr th:only-of-type {\n",
       "        vertical-align: middle;\n",
       "    }\n",
       "\n",
       "    .dataframe tbody tr th {\n",
       "        vertical-align: top;\n",
       "    }\n",
       "\n",
       "    .dataframe thead th {\n",
       "        text-align: right;\n",
       "    }\n",
       "</style>\n",
       "<table border=\"1\" class=\"dataframe\">\n",
       "  <thead>\n",
       "    <tr style=\"text-align: right;\">\n",
       "      <th></th>\n",
       "      <th>index</th>\n",
       "      <th>title</th>\n",
       "      <th>text</th>\n",
       "      <th>Ground Label</th>\n",
       "      <th>class</th>\n",
       "      <th>links</th>\n",
       "      <th>question_marks</th>\n",
       "      <th>exclamation_marks</th>\n",
       "      <th>capital_letters</th>\n",
       "      <th>num_words</th>\n",
       "    </tr>\n",
       "  </thead>\n",
       "  <tbody>\n",
       "    <tr>\n",
       "      <th>0</th>\n",
       "      <td>40542</td>\n",
       "      <td>adele permission given political campaign use ...</td>\n",
       "      <td>reuters british singer adele made clear monday...</td>\n",
       "      <td>true</td>\n",
       "      <td>1</td>\n",
       "      <td>0</td>\n",
       "      <td>0</td>\n",
       "      <td>0</td>\n",
       "      <td>0.040161</td>\n",
       "      <td>215</td>\n",
       "    </tr>\n",
       "    <tr>\n",
       "      <th>1</th>\n",
       "      <td>38393</td>\n",
       "      <td>border collapse amid election</td>\n",
       "      <td>dml daily november immigration illegal alien f...</td>\n",
       "      <td>fake</td>\n",
       "      <td>0</td>\n",
       "      <td>0</td>\n",
       "      <td>0</td>\n",
       "      <td>0</td>\n",
       "      <td>0.039648</td>\n",
       "      <td>278</td>\n",
       "    </tr>\n",
       "    <tr>\n",
       "      <th>2</th>\n",
       "      <td>34334</td>\n",
       "      <td>tim allen hollywood bully trump supporter</td>\n",
       "      <td>kelly file monday actor tim allen discussed hy...</td>\n",
       "      <td>fake</td>\n",
       "      <td>0</td>\n",
       "      <td>0</td>\n",
       "      <td>0</td>\n",
       "      <td>0</td>\n",
       "      <td>0.043478</td>\n",
       "      <td>39</td>\n",
       "    </tr>\n",
       "    <tr>\n",
       "      <th>3</th>\n",
       "      <td>21406</td>\n",
       "      <td>north korea sentence south korean reporter dea...</td>\n",
       "      <td>seoul reuters north korean court sentenced two...</td>\n",
       "      <td>true</td>\n",
       "      <td>1</td>\n",
       "      <td>0</td>\n",
       "      <td>0</td>\n",
       "      <td>0</td>\n",
       "      <td>0.044112</td>\n",
       "      <td>436</td>\n",
       "    </tr>\n",
       "    <tr>\n",
       "      <th>4</th>\n",
       "      <td>60696</td>\n",
       "      <td>espn fired curt schilling despicable facebook ...</td>\n",
       "      <td>espn made amazing stand bigotry airwave firing...</td>\n",
       "      <td>fake</td>\n",
       "      <td>0</td>\n",
       "      <td>0</td>\n",
       "      <td>4</td>\n",
       "      <td>1</td>\n",
       "      <td>0.038238</td>\n",
       "      <td>539</td>\n",
       "    </tr>\n",
       "  </tbody>\n",
       "</table>\n",
       "</div>"
      ],
      "text/plain": [
       "   index                                              title  \\\n",
       "0  40542  adele permission given political campaign use ...   \n",
       "1  38393                      border collapse amid election   \n",
       "2  34334          tim allen hollywood bully trump supporter   \n",
       "3  21406  north korea sentence south korean reporter dea...   \n",
       "4  60696  espn fired curt schilling despicable facebook ...   \n",
       "\n",
       "                                                text Ground Label  class  \\\n",
       "0  reuters british singer adele made clear monday...         true      1   \n",
       "1  dml daily november immigration illegal alien f...         fake      0   \n",
       "2  kelly file monday actor tim allen discussed hy...         fake      0   \n",
       "3  seoul reuters north korean court sentenced two...         true      1   \n",
       "4  espn made amazing stand bigotry airwave firing...         fake      0   \n",
       "\n",
       "   links  question_marks  exclamation_marks  capital_letters  num_words  \n",
       "0      0               0                  0         0.040161        215  \n",
       "1      0               0                  0         0.039648        278  \n",
       "2      0               0                  0         0.043478         39  \n",
       "3      0               0                  0         0.044112        436  \n",
       "4      0               4                  1         0.038238        539  "
      ]
     },
     "execution_count": 39,
     "metadata": {},
     "output_type": "execute_result"
    }
   ],
   "source": [
    "test['class']=np.where(test['Ground Label']=='fake', 0, 1)\n",
    "test[\"text\"] = test[\"text\"].fillna(\"\")\n",
    "test[\"title\"] = test[\"title\"].fillna(\"\")\n",
    "test[\"links\"] = test[\"text\"].apply(contains_link)\n",
    "test[\"question_marks\"] = test[\"text\"].apply(lambda x: x.count(\"?\"))\n",
    "test[\"exclamation_marks\"] = test[\"text\"].apply(lambda x: x.count(\"!\"))\n",
    "test[\"text\"] = test[\"text\"].apply(clean)\n",
    "test[\"title\"] = test[\"title\"].apply(clean)\n",
    "test[\"capital_letters\"] = test[\"text\"].apply(count_capital_letters)\n",
    "test[\"text\"] = test[\"text\"].apply(lambda x: x.lower())\n",
    "test[\"title\"] = test[\"title\"].apply(lambda x: x.lower())\n",
    "test[\"num_words\"] = test[\"text\"].apply(lambda x: len(x.split()))\n",
    "test[[\"text\", \"title\"]] = test[[\"text\", \"title\"]].apply(lambda x: x.apply(lemmatize_text))\n",
    "test[[\"text\", \"title\"]] = test[[\"text\", \"title\"]].apply(lambda x: x.apply(remove_stop_words))\n",
    "test.head()"
   ]
  },
  {
   "cell_type": "markdown",
   "id": "e6fa2de5",
   "metadata": {},
   "source": [
    "### We vectorize the test data using the previously created TF-IDF model."
   ]
  },
  {
   "cell_type": "code",
   "execution_count": 40,
   "id": "6d078ee7",
   "metadata": {},
   "outputs": [],
   "source": [
    "vectorizedTextTest = vectorizerText.transform(test[\"text\"])\n",
    "vectorizedTitleTest = vectorizerTitle.transform(test[\"title\"])"
   ]
  },
  {
   "cell_type": "markdown",
   "id": "e072be7e",
   "metadata": {},
   "source": [
    "### We scale the created column in the test data."
   ]
  },
  {
   "cell_type": "code",
   "execution_count": 41,
   "id": "d28178e5",
   "metadata": {},
   "outputs": [],
   "source": [
    "test_part = test[[\"num_words\",\"exclamation_marks\",\"question_marks\",\"links\", \"capital_letters\"]]\n",
    "scaled_test = pd.DataFrame(scaler.fit_transform(test_part), columns=test_part.columns)"
   ]
  },
  {
   "cell_type": "markdown",
   "id": "f80cb555",
   "metadata": {},
   "source": [
    "### We prepare the test data"
   ]
  },
  {
   "cell_type": "code",
   "execution_count": 42,
   "id": "77d0dc4f",
   "metadata": {},
   "outputs": [],
   "source": [
    "test['class']=np.where(test['Ground Label']=='fake', 0, 1)\n",
    "Xv_test= hstack([vectorizedTitleTest, vectorizedTextTest,scipy.sparse.csr_matrix(scaled_test[[\"links\",\"question_marks\",\"exclamation_marks\",\"capital_letters\",\"num_words\"]].values)])\n",
    "Xv_test2 = hstack([vectorizedTitleTest, vectorizedTextTest])\n",
    "y_test = test['class']"
   ]
  },
  {
   "cell_type": "markdown",
   "id": "b97f3354",
   "metadata": {},
   "source": [
    "### We create and test a logistic regression model."
   ]
  },
  {
   "cell_type": "code",
   "execution_count": 43,
   "id": "7920506f",
   "metadata": {},
   "outputs": [
    {
     "name": "stdout",
     "output_type": "stream",
     "text": [
      "0.9533793103448276\n"
     ]
    }
   ],
   "source": [
    "LR = LogisticRegression()\n",
    "LR.fit(Xv_train, y_train)\n",
    "print(LR.score(Xv_test, y_test))"
   ]
  },
  {
   "cell_type": "markdown",
   "id": "bb46f5db",
   "metadata": {},
   "source": [
    "### We create and test a second logistic regression model."
   ]
  },
  {
   "cell_type": "code",
   "execution_count": 109,
   "id": "769e3d1d",
   "metadata": {},
   "outputs": [
    {
     "name": "stdout",
     "output_type": "stream",
     "text": [
      "0.9533103448275863\n"
     ]
    }
   ],
   "source": [
    "LR2 = LogisticRegression()\n",
    "LR2.fit(Xv_train2, y_train)\n",
    "print(LR2.score(Xv_test2, y_test))"
   ]
  },
  {
   "cell_type": "markdown",
   "id": "148dc5a6",
   "metadata": {},
   "source": [
    "### We create and test a decision tree model."
   ]
  },
  {
   "cell_type": "code",
   "execution_count": 111,
   "id": "cdb77b05",
   "metadata": {},
   "outputs": [
    {
     "name": "stdout",
     "output_type": "stream",
     "text": [
      "0.94\n"
     ]
    }
   ],
   "source": [
    "DT = DecisionTreeClassifier(max_depth=13)\n",
    "DT.fit(Xv_train, y_train)\n",
    "print(DT.score(Xv_test, y_test))"
   ]
  },
  {
   "cell_type": "markdown",
   "id": "1f383055",
   "metadata": {},
   "source": [
    "### We create and test a second decision tree model."
   ]
  },
  {
   "cell_type": "code",
   "execution_count": 113,
   "id": "c7f0298e",
   "metadata": {},
   "outputs": [
    {
     "name": "stdout",
     "output_type": "stream",
     "text": [
      "0.9460689655172414\n"
     ]
    }
   ],
   "source": [
    "DT2 = DecisionTreeClassifier(max_depth=17)\n",
    "DT2.fit(Xv_train2, y_train)\n",
    "print(DT2.score(Xv_test2, y_test))"
   ]
  },
  {
   "cell_type": "markdown",
   "id": "d1ed8853",
   "metadata": {},
   "source": [
    "### We create and test a gradient boosting model."
   ]
  },
  {
   "cell_type": "code",
   "execution_count": 115,
   "id": "e6d577ee",
   "metadata": {},
   "outputs": [
    {
     "name": "stdout",
     "output_type": "stream",
     "text": [
      "0.9488965517241379\n"
     ]
    }
   ],
   "source": [
    "GBC = GradientBoostingClassifier(random_state=0)\n",
    "GBC.fit(Xv_train, y_train)\n",
    "\n",
    "print(GBC.score(Xv_test, y_test))"
   ]
  },
  {
   "cell_type": "markdown",
   "id": "5fd5c586",
   "metadata": {},
   "source": [
    "### We create and test a second gradient boosting model."
   ]
  },
  {
   "cell_type": "code",
   "execution_count": 117,
   "id": "8c55ccfd",
   "metadata": {
    "scrolled": true
   },
   "outputs": [
    {
     "name": "stdout",
     "output_type": "stream",
     "text": [
      "0.9473793103448276\n"
     ]
    }
   ],
   "source": [
    "GBC2 = GradientBoostingClassifier(random_state=0)\n",
    "GBC2.fit(Xv_train2, y_train)\n",
    "\n",
    "print(GBC2.score(Xv_test2, y_test))"
   ]
  },
  {
   "cell_type": "markdown",
   "id": "04112295",
   "metadata": {},
   "source": [
    "### We create and test a neural network model. We add data generator because all the training data requires too much memory space."
   ]
  },
  {
   "cell_type": "code",
   "execution_count": 119,
   "id": "bdbffa54",
   "metadata": {
    "scrolled": true
   },
   "outputs": [
    {
     "name": "stdout",
     "output_type": "stream",
     "text": [
      "104/104 [==============================] - 41s 378ms/step - loss: 0.3553 - accuracy: 0.8384\n",
      "104/104 [==============================] - 40s 387ms/step - loss: 0.1883 - accuracy: 0.9321\n",
      "104/104 [==============================] - 45s 434ms/step - loss: 0.1456 - accuracy: 0.9478\n",
      "104/104 [==============================] - 43s 415ms/step - loss: 0.1420 - accuracy: 0.9499\n",
      "104/104 [==============================] - 45s 434ms/step - loss: 0.1339 - accuracy: 0.9484\n",
      "104/104 [==============================] - 45s 433ms/step - loss: 0.1115 - accuracy: 0.9581\n",
      "104/104 [==============================] - 47s 455ms/step - loss: 0.1074 - accuracy: 0.9581\n",
      "104/104 [==============================] - 47s 449ms/step - loss: 0.1080 - accuracy: 0.9593\n",
      "104/104 [==============================] - 50s 476ms/step - loss: 0.1071 - accuracy: 0.9614\n",
      "104/104 [==============================] - 46s 441ms/step - loss: 0.0901 - accuracy: 0.9662\n",
      "104/104 [==============================] - 47s 455ms/step - loss: 0.0166 - accuracy: 0.9973\n",
      "104/104 [==============================] - 45s 429ms/step - loss: 0.0189 - accuracy: 0.9931\n",
      "104/104 [==============================] - 41s 390ms/step - loss: 0.0142 - accuracy: 0.9955\n",
      "104/104 [==============================] - 47s 450ms/step - loss: 0.0208 - accuracy: 0.9907\n",
      "104/104 [==============================] - 43s 409ms/step - loss: 0.0134 - accuracy: 0.9964\n",
      "104/104 [==============================] - 48s 463ms/step - loss: 0.0587 - accuracy: 0.9780\n",
      "104/104 [==============================] - 45s 433ms/step - loss: 0.0534 - accuracy: 0.9795\n",
      "104/104 [==============================] - 45s 434ms/step - loss: 0.0271 - accuracy: 0.9900\n",
      "104/104 [==============================] - 43s 415ms/step - loss: 0.0431 - accuracy: 0.9834\n",
      "104/104 [==============================] - 41s 396ms/step - loss: 0.0324 - accuracy: 0.9897\n",
      "454/454 [==============================] - 25s 50ms/step - loss: 0.1304 - accuracy: 0.9588\n",
      "Accuracy: 0.9588276147842407\n"
     ]
    }
   ],
   "source": [
    "Xv_test_keras = Xv_test.toarray()\n",
    "\n",
    "def data_generator(X, y, i, batch_size):\n",
    "    num_batches = X.shape[0] // batch_size\n",
    "    batch_X = X[i*batch_size:(i+1)*batch_size].toarray()\n",
    "    batch_y = y[i*batch_size:(i+1)*batch_size]\n",
    "    return batch_X, batch_y\n",
    "\n",
    "\n",
    "model = Sequential()\n",
    "model.add(Dense(512, input_shape=(Xv_train.shape[1],), activation='relu'))\n",
    "model.add(Dropout(0.5))\n",
    "model.add(Dense(256, activation='relu'))\n",
    "model.add(Dropout(0.5))\n",
    "model.add(Dense(1, activation='sigmoid'))\n",
    "\n",
    "# Compile the model\n",
    "model.compile(loss='binary_crossentropy', optimizer='adam', metrics=['accuracy'])\n",
    "\n",
    "# Train the model\n",
    "num_of_batches = 10\n",
    "for i in range(num_of_batches):\n",
    "    (a,b)=data_generator(Xv_train, y_train, (i+5)%10, Xv_train.shape[0]//num_of_batches)\n",
    "    model.fit(a,b, epochs=1)\n",
    "for i in range(num_of_batches):\n",
    "    (a,b)=data_generator(Xv_train, y_train, i, Xv_train.shape[0]//num_of_batches)\n",
    "    model.fit(a,b, epochs=1)\n",
    "\n",
    "# Evaluate the model on the testing set\n",
    "score = model.evaluate(Xv_test_keras, y_test, batch_size=32)\n",
    "print(\"Accuracy:\", score[1])"
   ]
  },
  {
   "cell_type": "markdown",
   "id": "5c743857",
   "metadata": {},
   "source": [
    "### We create and test a second neural network model."
   ]
  },
  {
   "cell_type": "code",
   "execution_count": 122,
   "id": "afa4f0a0",
   "metadata": {},
   "outputs": [
    {
     "name": "stdout",
     "output_type": "stream",
     "text": [
      "104/104 [==============================] - 41s 385ms/step - loss: 0.3475 - accuracy: 0.8459\n",
      "104/104 [==============================] - 43s 416ms/step - loss: 0.1973 - accuracy: 0.9291\n",
      "104/104 [==============================] - 48s 459ms/step - loss: 0.1454 - accuracy: 0.9460\n",
      "104/104 [==============================] - 50s 467ms/step - loss: 0.1466 - accuracy: 0.9502\n",
      "104/104 [==============================] - 45s 429ms/step - loss: 0.1340 - accuracy: 0.9502\n",
      "104/104 [==============================] - 45s 431ms/step - loss: 0.1183 - accuracy: 0.9569\n",
      "104/104 [==============================] - 46s 446ms/step - loss: 0.1046 - accuracy: 0.9605\n",
      "104/104 [==============================] - 46s 440ms/step - loss: 0.1127 - accuracy: 0.9545\n",
      "104/104 [==============================] - 44s 423ms/step - loss: 0.1120 - accuracy: 0.9578\n",
      "104/104 [==============================] - 44s 424ms/step - loss: 0.0893 - accuracy: 0.9668\n",
      "104/104 [==============================] - 47s 449ms/step - loss: 0.0174 - accuracy: 0.9952\n",
      "104/104 [==============================] - 47s 449ms/step - loss: 0.0191 - accuracy: 0.9931\n",
      "104/104 [==============================] - 45s 429ms/step - loss: 0.0151 - accuracy: 0.9955\n",
      "104/104 [==============================] - 43s 412ms/step - loss: 0.0180 - accuracy: 0.9928\n",
      "104/104 [==============================] - 44s 422ms/step - loss: 0.0126 - accuracy: 0.9949\n",
      "104/104 [==============================] - 48s 462ms/step - loss: 0.0559 - accuracy: 0.9801\n",
      "104/104 [==============================] - 49s 477ms/step - loss: 0.0491 - accuracy: 0.9792\n",
      "104/104 [==============================] - 48s 458ms/step - loss: 0.0284 - accuracy: 0.9900\n",
      "104/104 [==============================] - 50s 479ms/step - loss: 0.0359 - accuracy: 0.9861\n",
      "104/104 [==============================] - 55s 524ms/step - loss: 0.0322 - accuracy: 0.9894\n",
      "454/454 [==============================] - 25s 55ms/step - loss: 0.1298 - accuracy: 0.9597\n",
      "Accuracy: 0.9596551656723022\n"
     ]
    }
   ],
   "source": [
    "Xv_test_keras = Xv_test2.toarray()\n",
    "\n",
    "def data_generator(X, y, i, batch_size):\n",
    "    num_batches = X.shape[0] // batch_size\n",
    "    batch_X = X[i*batch_size:(i+1)*batch_size].toarray()\n",
    "    batch_y = y[i*batch_size:(i+1)*batch_size]\n",
    "    return batch_X, batch_y\n",
    "\n",
    "\n",
    "model = Sequential()\n",
    "model.add(Dense(512, input_shape=(Xv_train2.shape[1],), activation='relu'))\n",
    "model.add(Dropout(0.5))\n",
    "model.add(Dense(256, activation='relu'))\n",
    "model.add(Dropout(0.5))\n",
    "model.add(Dense(1, activation='sigmoid'))\n",
    "\n",
    "# Compile the model\n",
    "model.compile(loss='binary_crossentropy', optimizer='adam', metrics=['accuracy'])\n",
    "\n",
    "# Train the model\n",
    "num_of_batches = 10\n",
    "for i in range(num_of_batches):\n",
    "    (a,b)=data_generator(Xv_train2, y_train, (i+5)%10, Xv_train2.shape[0]//num_of_batches)\n",
    "    model.fit(a,b, epochs=1)\n",
    "for i in range(num_of_batches):\n",
    "    (a,b)=data_generator(Xv_train2, y_train, i, Xv_train2.shape[0]//num_of_batches)\n",
    "    model.fit(a,b, epochs=1)\n",
    "\n",
    "# Evaluate the model on the testing set\n",
    "score = model.evaluate(Xv_test_keras, y_test, batch_size=32)\n",
    "print(\"Accuracy:\", score[1])"
   ]
  },
  {
   "cell_type": "markdown",
   "id": "0df0800c",
   "metadata": {},
   "source": [
    "# 4. Summary"
   ]
  },
  {
   "cell_type": "markdown",
   "id": "d594c89f",
   "metadata": {},
   "source": [
    "### Based on the conducted analyses and tests, we can conclude that generally the models created by us perform well. The test results showed that each model has a high accuracy exceeding 90%."
   ]
  },
  {
   "cell_type": "markdown",
   "id": "d9b0c878",
   "metadata": {},
   "source": [
    "### As it turned out our additional preprocessing had almost no impact on the results."
   ]
  },
  {
   "cell_type": "code",
   "execution_count": null,
   "id": "415796b1",
   "metadata": {},
   "outputs": [],
   "source": []
  }
 ],
 "metadata": {
  "kernelspec": {
   "display_name": "Python 3 (ipykernel)",
   "language": "python",
   "name": "python3"
  },
  "language_info": {
   "codemirror_mode": {
    "name": "ipython",
    "version": 3
   },
   "file_extension": ".py",
   "mimetype": "text/x-python",
   "name": "python",
   "nbconvert_exporter": "python",
   "pygments_lexer": "ipython3",
   "version": "3.9.12"
  }
 },
 "nbformat": 4,
 "nbformat_minor": 5
}
